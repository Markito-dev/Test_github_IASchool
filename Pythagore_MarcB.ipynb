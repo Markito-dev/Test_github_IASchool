{
 "cells": [
  {
   "cell_type": "markdown",
   "id": "9058cad7-7439-4ff9-b267-bc5a6ebd32aa",
   "metadata": {},
   "source": [
    "#### BAËGERT Marc"
   ]
  },
  {
   "cell_type": "markdown",
   "id": "56dbf6c8-be33-4014-979c-114f1a4528fd",
   "metadata": {},
   "source": [
    "# Pythagore"
   ]
  },
  {
   "cell_type": "code",
   "execution_count": 1,
   "id": "612cbece-f850-4db7-845a-fb0b3a07daeb",
   "metadata": {},
   "outputs": [],
   "source": [
    "import math"
   ]
  },
  {
   "cell_type": "code",
   "execution_count": 3,
   "id": "9cfdc677-f91a-4dc0-9987-7cf361fde5ab",
   "metadata": {},
   "outputs": [],
   "source": [
    "def check_type(value,list_good =[int,float]):\n",
    "    \"\"\"\n",
    "    def check_type(value,list_good =[int,float]): return 1 if value type is in list good\n",
    "    \n",
    "    Inputs:\n",
    "        - list_good : list of accepted type for value\n",
    "        - value : it's an element to compare\n",
    "    Ouput:\n",
    "        - good: return 1 if value has a good type or 0 if not\n",
    "    \"\"\"\n",
    "    type_value = type(value)\n",
    "\n",
    "    # On édite une variable good indiquant si la variable d'entrée est bonne: 1->ok | 0->nok\n",
    "    good = [1 for i in list_good if i == type_value]\n",
    "    if len(good) == 0:\n",
    "        good = 0\n",
    "    else:\n",
    "        good = 1\n",
    "        \n",
    "    return good"
   ]
  },
  {
   "cell_type": "code",
   "execution_count": 4,
   "id": "b2e08421-7051-420c-ba7d-7303cf404f7d",
   "metadata": {},
   "outputs": [],
   "source": [
    "def give_right_type(value, list_good =[int,float]):\n",
    "    \"\"\"\n",
    "    def give_right_type(value, list_good =[int,float]) : ask user to give a good value type\n",
    "    \n",
    "    Inputs:\n",
    "        - list_good : list of accepted type for value\n",
    "        - value : it's an element to compare\n",
    "    Ouput:\n",
    "        - value_r: return a better value (with a good type)\n",
    "    \"\"\"\n",
    "    # On regarde si le type est correct ou non:\n",
    "    good_type = check_type(value,list_good)\n",
    "    value_r = value\n",
    "    index_while = 0\n",
    "    \n",
    "    while good_type<1: \n",
    "        try:\n",
    "            value_r = float(value_r)\n",
    "        except:\n",
    "            print(\"Oops!  Ce n'est pas un type correct.  Essayez encore...\")\n",
    "            value_r = input(\"Entrez un entier (ou un float):\")\n",
    "            \n",
    "        good_type = check_type(value_r,list_good)    \n",
    "    return value_r"
   ]
  },
  {
   "cell_type": "code",
   "execution_count": 20,
   "id": "ab8a8d65-1cfb-40e4-9473-02c3fc492429",
   "metadata": {},
   "outputs": [],
   "source": [
    "def give_limit_value(value, bornes =[0.0001,999999],list_good =[int,float]):\n",
    "    \"\"\"\n",
    "    give_limit_value(value, bornes =[0.0001,999999],list_good =[int,float]):\n",
    "    \n",
    "    Inputs:\n",
    "        - list_good : list of accepted type for value\n",
    "        - bornes : defines the min and max value of value\n",
    "        - value : it's an element to compare\n",
    "    Ouput:\n",
    "        - value_r: return a better value (with a good type)\n",
    "    \"\"\"\n",
    "    # On vérifie le type de la valeur d'entrée:\n",
    "    value_r = give_right_type(value, list_good)\n",
    "    \n",
    "    # On vérifie la valeur de value_r par rapport aux bornes:\n",
    "    while (value_r<bornes[0]) | (value_r>bornes[1]):\n",
    "        print(f\"Votre valeur {value_r} n'est pas un nombre compris dans la borne : [ {bornes[0]} , {bornes[1]} ] \")\n",
    "        value_r = \"wrong\"\n",
    "        value_r = give_right_type(value_r, list_good)\n",
    "        \n",
    "    return value_r"
   ]
  },
  {
   "cell_type": "code",
   "execution_count": 2,
   "id": "30c0c2fd-d22b-494e-9928-cfa9894eedaa",
   "metadata": {},
   "outputs": [],
   "source": [
    "#Exercice 2: Pythagore: Calcul du troisième coté d'un triangle en utilisant une fonction\n",
    "\n",
    "#### Entrée: a, b (int) : note a, b int --> float, str, boolean, \n",
    "#### Sortie: c\n",
    "\n",
    "##################################################\n",
    "#### Gestion des exceptions pours les cas suivants:\n",
    "##################################################\n",
    "\n",
    "def pyth_hypo(adjacent = 1, oppose = 1):\n",
    "    \"\"\"\n",
    "    def pyth_hypo(adjacent = 1, oppose = 1)\n",
    "\n",
    "    Calcul l'hypothénus d'un triangle rectange\n",
    "\n",
    "    Input:\n",
    "        - adjacent : coté adjacent du triangle (entier/float)\n",
    "        - oppose : coté oppose de l'hypothénus (entier/float)\n",
    "    Output:\n",
    "        - hypothenus : l'hypothénus du triangle\n",
    "    \"\"\"\n",
    "    hypo = 0\n",
    "    type_acceptes = [\"int\",\"float\"]\n",
    "\n",
    "    #On demande à l'utilisateur de donner un bon type de variable\n",
    "    adjacent = give_right_type(adjacent)\n",
    "    oppose = give_right_type(oppose)\n",
    "\n",
    "    #On vérifie si les entrées sont des positifs avec une limite de taille:\n",
    "    adjacent = give_limit_value(adjacent, bornes =[0.0001,999999],list_good =[int,float])\n",
    "    oppose = give_limit_value(oppose, bornes =[0.0001,999999],list_good =[int,float])\n",
    "\n",
    "    #On calcule l'hypothénus:\n",
    "    hypo = math.sqrt(adjacent**2+oppose**2)\n",
    "\n",
    "\n",
    "\n",
    "    return hypo"
   ]
  },
  {
   "cell_type": "markdown",
   "id": "c96f1d33-944f-4589-bb8d-2cdd3cafcf39",
   "metadata": {},
   "source": [
    "# Test de la fonction pythagore"
   ]
  },
  {
   "cell_type": "markdown",
   "id": "beee201f-46fa-4cf0-95ed-211ea3b84af0",
   "metadata": {},
   "source": [
    "## Test avec un entier"
   ]
  },
  {
   "cell_type": "code",
   "execution_count": 6,
   "id": "01ea0f82-fbfd-4fa4-b575-164c8c3d0c1e",
   "metadata": {},
   "outputs": [
    {
     "data": {
      "text/plain": [
       "3.605551275463989"
      ]
     },
     "execution_count": 6,
     "metadata": {},
     "output_type": "execute_result"
    }
   ],
   "source": [
    "pyth_hypo(2,3)"
   ]
  },
  {
   "cell_type": "code",
   "execution_count": 7,
   "id": "c57f6e64-f57c-4c85-845b-84e3fbca97fa",
   "metadata": {},
   "outputs": [
    {
     "name": "stdout",
     "output_type": "stream",
     "text": [
      "3.605551275463989\n"
     ]
    }
   ],
   "source": [
    "print(math.sqrt(2**2+3**2))"
   ]
  },
  {
   "cell_type": "markdown",
   "id": "cc551bd5-4add-49b6-8833-9e0dee6424ec",
   "metadata": {},
   "source": [
    "## Test avec un float"
   ]
  },
  {
   "cell_type": "code",
   "execution_count": 8,
   "id": "25060fc4-fd47-4474-b02b-552d6b24bff4",
   "metadata": {},
   "outputs": [
    {
     "data": {
      "text/plain": [
       "4.031128874149275"
      ]
     },
     "execution_count": 8,
     "metadata": {},
     "output_type": "execute_result"
    }
   ],
   "source": [
    "pyth_hypo(2,3.5)"
   ]
  },
  {
   "cell_type": "code",
   "execution_count": 9,
   "id": "62ccc5bb-ffe3-4713-8408-524936ac233f",
   "metadata": {},
   "outputs": [
    {
     "name": "stdout",
     "output_type": "stream",
     "text": [
      "4.031128874149275\n"
     ]
    }
   ],
   "source": [
    "print(math.sqrt(2**2+3.5**2))"
   ]
  },
  {
   "cell_type": "markdown",
   "id": "e55c2c16-2af9-42af-b924-92f8115ca342",
   "metadata": {},
   "source": [
    "## Test avec un deux string différents"
   ]
  },
  {
   "cell_type": "code",
   "execution_count": 10,
   "id": "63daf968-ec32-4955-93ce-f2819a2b76a0",
   "metadata": {},
   "outputs": [
    {
     "data": {
      "text/plain": [
       "4.031128874149275"
      ]
     },
     "execution_count": 10,
     "metadata": {},
     "output_type": "execute_result"
    }
   ],
   "source": [
    "pyth_hypo(\"2\",3.5)"
   ]
  },
  {
   "cell_type": "code",
   "execution_count": 11,
   "id": "56a408e8-3e5a-49ac-a384-b42beb384381",
   "metadata": {},
   "outputs": [
    {
     "name": "stdout",
     "output_type": "stream",
     "text": [
      "4.031128874149275\n"
     ]
    }
   ],
   "source": [
    "print(math.sqrt(2**2+3.5**2))"
   ]
  },
  {
   "cell_type": "code",
   "execution_count": null,
   "id": "ea87a7c0-2ac4-47dd-b286-8eadddac4227",
   "metadata": {},
   "outputs": [],
   "source": []
  },
  {
   "cell_type": "code",
   "execution_count": 12,
   "id": "35735ecb-1ba0-4b2a-b234-81d1f1ce0ae0",
   "metadata": {},
   "outputs": [
    {
     "name": "stdout",
     "output_type": "stream",
     "text": [
      "Oops!  Ce n'est pas un type correct.  Essayez encore...\n"
     ]
    },
    {
     "name": "stdin",
     "output_type": "stream",
     "text": [
      "Entrez un entier (ou un float): 4\n"
     ]
    },
    {
     "data": {
      "text/plain": [
       "5.315072906367325"
      ]
     },
     "execution_count": 12,
     "metadata": {},
     "output_type": "execute_result"
    }
   ],
   "source": [
    "pyth_hypo(\"2h\",3.5)"
   ]
  },
  {
   "cell_type": "code",
   "execution_count": 13,
   "id": "bca8db66-6b44-4127-8065-78bbf67e1b7b",
   "metadata": {},
   "outputs": [
    {
     "name": "stdout",
     "output_type": "stream",
     "text": [
      "5.315072906367325\n"
     ]
    }
   ],
   "source": [
    "print(math.sqrt(4**2+3.5**2))"
   ]
  },
  {
   "cell_type": "code",
   "execution_count": null,
   "id": "85a16ead-5b07-4e2a-baed-171824bc9937",
   "metadata": {},
   "outputs": [],
   "source": []
  },
  {
   "cell_type": "code",
   "execution_count": 14,
   "id": "b08ae435-5409-4ff5-b665-ec32f42c8b38",
   "metadata": {},
   "outputs": [
    {
     "name": "stdout",
     "output_type": "stream",
     "text": [
      "Oops!  Ce n'est pas un type correct.  Essayez encore...\n"
     ]
    },
    {
     "name": "stdin",
     "output_type": "stream",
     "text": [
      "Entrez un entier (ou un float): 2\n"
     ]
    },
    {
     "name": "stdout",
     "output_type": "stream",
     "text": [
      "Oops!  Ce n'est pas un type correct.  Essayez encore...\n"
     ]
    },
    {
     "name": "stdin",
     "output_type": "stream",
     "text": [
      "Entrez un entier (ou un float): 2h\n"
     ]
    },
    {
     "name": "stdout",
     "output_type": "stream",
     "text": [
      "Oops!  Ce n'est pas un type correct.  Essayez encore...\n"
     ]
    },
    {
     "name": "stdin",
     "output_type": "stream",
     "text": [
      "Entrez un entier (ou un float): 5\n"
     ]
    },
    {
     "data": {
      "text/plain": [
       "5.385164807134504"
      ]
     },
     "execution_count": 14,
     "metadata": {},
     "output_type": "execute_result"
    }
   ],
   "source": [
    "pyth_hypo(\"g\",\"jhkk4\")"
   ]
  },
  {
   "cell_type": "code",
   "execution_count": 15,
   "id": "8cb1c4a9-db3a-4826-b90d-e3cf0ec1d4fa",
   "metadata": {},
   "outputs": [
    {
     "name": "stdout",
     "output_type": "stream",
     "text": [
      "5.385164807134504\n"
     ]
    }
   ],
   "source": [
    "print(math.sqrt(2**2+5**2))"
   ]
  },
  {
   "cell_type": "markdown",
   "id": "c9b0340d-bf4e-429a-b47a-ab22ea0ef712",
   "metadata": {},
   "source": [
    "## Test avec un complexe"
   ]
  },
  {
   "cell_type": "code",
   "execution_count": 16,
   "id": "9fdb2741-1896-4f02-9c56-796eb8d1b5a1",
   "metadata": {},
   "outputs": [
    {
     "name": "stdout",
     "output_type": "stream",
     "text": [
      "Oops!  Ce n'est pas un type correct.  Essayez encore...\n"
     ]
    },
    {
     "name": "stdin",
     "output_type": "stream",
     "text": [
      "Entrez un entier (ou un float): 9\n"
     ]
    },
    {
     "data": {
      "text/plain": [
       "9.486832980505138"
      ]
     },
     "execution_count": 16,
     "metadata": {},
     "output_type": "execute_result"
    }
   ],
   "source": [
    "pyth_hypo(\"3\",3+2j)"
   ]
  },
  {
   "cell_type": "code",
   "execution_count": 17,
   "id": "650b12ce-b76a-49e6-9d66-7fdeaf3c5b8b",
   "metadata": {},
   "outputs": [
    {
     "name": "stdout",
     "output_type": "stream",
     "text": [
      "9.486832980505138\n"
     ]
    }
   ],
   "source": [
    "print(math.sqrt(3**2+9**2))"
   ]
  },
  {
   "cell_type": "markdown",
   "id": "c61e206d-5d0e-4c4a-8124-402047eae1ca",
   "metadata": {},
   "source": [
    "## Test avec un chiffre trop petit et un chiffre trop grand"
   ]
  },
  {
   "cell_type": "code",
   "execution_count": 19,
   "id": "c17903eb-cf30-4db0-824c-fb6792cffa73",
   "metadata": {},
   "outputs": [
    {
     "name": "stdout",
     "output_type": "stream",
     "text": [
      "Votre valeur wrong n'est pas un nombre compris dans la borne : [ 0.0001 , 999999 ] \n",
      "Oops!  Ce n'est pas un type correct.  Essayez encore...\n"
     ]
    },
    {
     "name": "stdin",
     "output_type": "stream",
     "text": [
      "Entrez un entier (ou un float): 0.2\n"
     ]
    },
    {
     "name": "stdout",
     "output_type": "stream",
     "text": [
      "Votre valeur wrong n'est pas un nombre compris dans la borne : [ 0.0001 , 999999 ] \n",
      "Oops!  Ce n'est pas un type correct.  Essayez encore...\n"
     ]
    },
    {
     "name": "stdin",
     "output_type": "stream",
     "text": [
      "Entrez un entier (ou un float): 21\n"
     ]
    },
    {
     "data": {
      "text/plain": [
       "21.00095235935742"
      ]
     },
     "execution_count": 19,
     "metadata": {},
     "output_type": "execute_result"
    }
   ],
   "source": [
    "pyth_hypo(\"-23\",8888888)"
   ]
  },
  {
   "cell_type": "code",
   "execution_count": 21,
   "id": "e0147ac4-34ae-4e21-81ac-e1817bb74841",
   "metadata": {},
   "outputs": [
    {
     "name": "stdout",
     "output_type": "stream",
     "text": [
      "21.00095235935742\n"
     ]
    }
   ],
   "source": [
    "print(math.sqrt(0.2**2+21**2))"
   ]
  }
 ],
 "metadata": {
  "kernelspec": {
   "display_name": "Python 3 (ipykernel)",
   "language": "python",
   "name": "python3"
  },
  "language_info": {
   "codemirror_mode": {
    "name": "ipython",
    "version": 3
   },
   "file_extension": ".py",
   "mimetype": "text/x-python",
   "name": "python",
   "nbconvert_exporter": "python",
   "pygments_lexer": "ipython3",
   "version": "3.8.12"
  }
 },
 "nbformat": 4,
 "nbformat_minor": 5
}
